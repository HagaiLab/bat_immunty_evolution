{
 "cells": [
  {
   "cell_type": "code",
   "execution_count": null,
   "metadata": {},
   "outputs": [],
   "source": [
    "%%time\n",
    "import numpy as np\n",
    "import scanpy as sc\n",
    "import os\n",
    "import pandas as pd\n",
    "import bbknn\n",
    "\n",
    "sc.settings.verbosity = 4                \n",
    "sc.settings.set_figure_params(80)                 \n",
    "sc.settings.file_format_figures = 'png'  \n",
    "sc.settings.savefigs = False            \n",
    "use_first_n_samples = 0\n",
    "full_sparse = False"
   ]
  },
  {
   "cell_type": "markdown",
   "metadata": {},
   "source": [
    "# Basic QC workflow"
   ]
  },
  {
   "cell_type": "code",
   "execution_count": null,
   "metadata": {},
   "outputs": [],
   "source": [
    "adatas =[]\n",
    "\n",
    "paths = ['\\\\adata1','\\\\adata2','\\\\adata3'] #...etc - Folders with matrix, features and barcodes gz files.\n",
    "main_path = r'C:\\Users\\TzachiHNB5\\Documents\\scanpy_bat1k\\gut' \n",
    "for path,name in zip(paths,data_names):\n",
    "    adata = sc.read_10x_mtx(main_path+ path,var_names='gene_symbols',            # use gene symbols for the variable names (variables-axis index)\n",
    "        cache=True)  \n",
    "    sc.logging.print_memory_usage()\n",
    "    print(adata.shape)\n",
    "    adata.var_names =genes.index\n",
    "    adata.var.drop(columns= 'feature_types',inplace=True)\n",
    "    adata.var.rename(columns= {'gene_ids':'original_name'},inplace=True)\n",
    "    adatas.append(adata)\n"
   ]
  },
  {
   "cell_type": "code",
   "execution_count": null,
   "metadata": {},
   "outputs": [],
   "source": [
    "adata_names =['name_1','name_2','name_3'] #...tec\n",
    "adata = adatas[0].concatenate(adatas[1:], batch_categories = adata_names)"
   ]
  },
  {
   "cell_type": "markdown",
   "metadata": {},
   "source": [
    "### Genes and cells filtration \n"
   ]
  },
  {
   "cell_type": "markdown",
   "metadata": {},
   "source": [
    "Show those genes that yield the highest fraction of counts in each single cell, across all cells."
   ]
  },
  {
   "cell_type": "code",
   "execution_count": null,
   "metadata": {},
   "outputs": [],
   "source": [
    "sc.pl.highest_expr_genes(adata, n_top=20, )"
   ]
  },
  {
   "cell_type": "markdown",
   "metadata": {},
   "source": [
    "Basic filtering"
   ]
  },
  {
   "cell_type": "code",
   "execution_count": null,
   "metadata": {},
   "outputs": [],
   "source": [
    "sc.pp.filter_cells(adata, min_genes=200) \n",
    "sc.pp.filter_genes(adata, min_cells=3)\n",
    "print(adata.shape) "
   ]
  },
  {
   "cell_type": "markdown",
   "metadata": {},
   "source": [
    "### Mitochondrial QC and general measures"
   ]
  },
  {
   "cell_type": "markdown",
   "metadata": {},
   "source": [
    "Check if genes are annotated as mt by running:\n",
    "- GENES= list(adata.var.index[adata.var.index.str.startswith('mt-'.upper())])\n",
    "- GENES\n",
    "\n",
    "In case the genes are not annotated as 'MT-'' (Like in bats), run:\n",
    "\n",
    "- dict_replace = {'COX1':'MT-COX1','COX2':'MT-COX2'...etc}\n",
    "- adata.var.rename(dict_replace, inplace = True)"
   ]
  },
  {
   "cell_type": "code",
   "execution_count": null,
   "metadata": {},
   "outputs": [],
   "source": [
    "adata.var['MT'] = adata.var_names.str.startswith('MT-')  # annotate the group of mitochondrial genes as 'MT'\n",
    "sc.pp.calculate_qc_metrics(adata, qc_vars=['MT'], percent_top=None, log1p=False, inplace=True)"
   ]
  },
  {
   "cell_type": "markdown",
   "metadata": {},
   "source": [
    "A violin plot of some of the computed quality measures:\n",
    "\n",
    "- the number of genes expressed in the count matrix\n",
    "- the total counts per cell\n",
    "- the percentage of counts in mitochondrial genes"
   ]
  },
  {
   "cell_type": "code",
   "execution_count": null,
   "metadata": {},
   "outputs": [],
   "source": [
    "sc.pp.calculate_qc_metrics(adata, percent_top=None, log1p=False, inplace=True)"
   ]
  },
  {
   "cell_type": "code",
   "execution_count": null,
   "metadata": {},
   "outputs": [],
   "source": [
    "sc.pl.scatter(adata, x='total_counts', y='n_genes_by_counts', color='batch')\n",
    "sc.pl.scatter(adata, x='total_counts', y='pct_counts_MT', color='batch')\n",
    "sc.pl.scatter(adata, x='total_counts', y='n_genes', color='batch')"
   ]
  },
  {
   "cell_type": "markdown",
   "metadata": {},
   "source": [
    "Actually do the filtering by slicing the AnnData object - By pct_counts_MT  and by total_counts /n_genes_by_counts or even n_genes"
   ]
  },
  {
   "cell_type": "code",
   "execution_count": null,
   "metadata": {},
   "outputs": [],
   "source": [
    "adata = adata[adata.obs.pct_counts_MT < threshold(int)] \n",
    "adata = adata[adata.obs.total_counts < threshold(int), :] # If filtering outliers (<0.1% of cells)"
   ]
  },
  {
   "cell_type": "markdown",
   "metadata": {},
   "source": [
    "### Doublet analysis and filtering"
   ]
  },
  {
   "cell_type": "code",
   "execution_count": null,
   "metadata": {
    "code_folding": [
     0
    ]
   },
   "outputs": [],
   "source": [
    "import scrublet as scr\n",
    "def scrub(adatas,adata,adata_names): # based on raw individual samples. \n",
    "    import scrublet as scr\n",
    "    print('Before scrublet: ',adata.shape[0])\n",
    "    doub_index =[]\n",
    "    barcodes =[]\n",
    "    for data,name in zip(adatas,adata_names):\n",
    "        data.raw = data\n",
    "        sc.pp.normalize_total(data, target_sum=1e4)\n",
    "        sc.pp.log1p(data)\n",
    "        scrub = scr.Scrublet(data.raw.X)\n",
    "        data.obs['doublet_scores'], data.obs['predicted_doublets'] = scrub.scrub_doublets()\n",
    "        scrub.plot_histogram()\n",
    "        print('Doublets'+name +' :',data.obs[data.obs['doublet_scores'] >0.25].shape[0])\n",
    "        barcodes = data.obs[data.obs['doublet_scores'] <0.25].index.to_list()\n",
    "        for barcode in barcodes:\n",
    "            doub_index.append(barcode+'-'+name)\n",
    "    \n",
    "    adata = adata[adata.obs.index.isin(doub_index)]\n",
    "    print('After scrublet: ',adata.shape[0])\n",
    "    return adata"
   ]
  },
  {
   "cell_type": "code",
   "execution_count": null,
   "metadata": {},
   "outputs": [],
   "source": [
    "adata = scrub(adatas,adata,adata_names) #adata_names in the same order as adatas"
   ]
  },
  {
   "cell_type": "markdown",
   "metadata": {},
   "source": [
    "### Cell cycle scoring"
   ]
  },
  {
   "cell_type": "markdown",
   "metadata": {},
   "source": [
    "download Cell cycle txt: https://github.com/scverse/scanpy_usage/blob/master/180209_cell_cycle/data/regev_lab_cell_cycle_genes.txt"
   ]
  },
  {
   "cell_type": "code",
   "execution_count": null,
   "metadata": {},
   "outputs": [],
   "source": [
    "cell_cycle_genes = [x.strip() for x in open('regev_lab_cell_cycle_genes.txt')]\n",
    "\n",
    "s_genes = cell_cycle_genes[:43]\n",
    "g2m_genes = cell_cycle_genes[43:]\n",
    "cell_cycle_genes = [x for x in cell_cycle_genes if x in adata.var_names]\n",
    "s_genes = [x for x in s_genes if x in adata.var_names]\n",
    "g2m_genes = [x for x in g2m_genes if x in adata.var_names]"
   ]
  },
  {
   "cell_type": "code",
   "execution_count": null,
   "metadata": {},
   "outputs": [],
   "source": [
    "cell_cycle_adata = adata.copy()\n",
    "\n",
    "sc.pp.normalize_per_cell(cell_cycle_adata, counts_per_cell_after=1e4)\n",
    "sc.pp.log1p(cell_cycle_adata)\n",
    "sc.pp.scale(cell_cycle_adata)\n",
    "sc.tl.score_genes_cell_cycle(cell_cycle_adata, s_genes=s_genes, g2m_genes=g2m_genes)\n",
    "adata_cc_genes = cell_cycle_adata[:, cell_cycle_genes].copy()\n",
    "sc.tl.pca(adata_cc_genes)\n",
    "sc.pl.pca_scatter(adata_cc_genes, color='phase')\n",
    "adata.obs['S_score'] = cell_cycle_adata.obs['S_score'].copy()\n",
    "adata.obs['G2M_score'] = cell_cycle_adata.obs['G2M_score'].copy()\n",
    "adata.obs['phase'] = cell_cycle_adata.obs['phase'].copy()"
   ]
  },
  {
   "cell_type": "markdown",
   "metadata": {},
   "source": [
    "### Saving adata"
   ]
  },
  {
   "cell_type": "code",
   "execution_count": 2,
   "metadata": {},
   "outputs": [],
   "source": [
    "adata.write('file_name.h5ad')"
   ]
  }
 ],
 "metadata": {
  "kernelspec": {
   "display_name": "Python 3",
   "language": "python",
   "name": "python3"
  },
  "language_info": {
   "codemirror_mode": {
    "name": "ipython",
    "version": 3
   },
   "file_extension": ".py",
   "mimetype": "text/x-python",
   "name": "python",
   "nbconvert_exporter": "python",
   "pygments_lexer": "ipython3",
   "version": "3.9.2"
  },
  "toc": {
   "base_numbering": 1,
   "nav_menu": {},
   "number_sections": true,
   "sideBar": true,
   "skip_h1_title": false,
   "title_cell": "Table of Contents",
   "title_sidebar": "Contents",
   "toc_cell": false,
   "toc_position": {
    "height": "calc(100% - 180px)",
    "left": "10px",
    "top": "150px",
    "width": "349.091px"
   },
   "toc_section_display": true,
   "toc_window_display": true
  }
 },
 "nbformat": 4,
 "nbformat_minor": 4
}
