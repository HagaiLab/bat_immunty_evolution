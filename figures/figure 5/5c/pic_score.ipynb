{
 "cells": [
  {
   "cell_type": "markdown",
   "id": "south-winner",
   "metadata": {},
   "source": [
    "# Primary innate response score calculation in R.aegyptiacus PBMC's\n"
   ]
  },
  {
   "cell_type": "code",
   "execution_count": null,
   "id": "41a5481d",
   "metadata": {},
   "outputs": [],
   "source": [
    "### Scoring is done on Poly(I:C) and LPS infected cells within chosen cell types\n",
    "### Same scoring method was used in other scores analyses"
   ]
  },
  {
   "cell_type": "code",
   "execution_count": 105,
   "id": "exterior-lithuania",
   "metadata": {},
   "outputs": [
    {
     "name": "stdout",
     "output_type": "stream",
     "text": [
      "Wall time: 0 ns\n"
     ]
    }
   ],
   "source": [
    "%%time\n",
    "import scanpy as sc\n",
    "import anndata as ad\n",
    "import pandas as pd"
   ]
  },
  {
   "cell_type": "code",
   "execution_count": 106,
   "id": "3ebd725a",
   "metadata": {},
   "outputs": [],
   "source": [
    "# Load bat PBMC's data\n",
    "adata = sc.read(r\"C:\\Users\\TzachiHNB6\\Documents\\annotated_count_matrices\\bat\\blood\\bat_mouse_integration\\PBMCs_annotated_raw_bat1k\\PBMCs_annotated_raw_bat1k.h5ad\") "
   ]
  },
  {
   "cell_type": "code",
   "execution_count": 107,
   "id": "7fa892e0",
   "metadata": {},
   "outputs": [],
   "source": [
    "# Load bat PBMC's metadata\n",
    "bat_metadata = pd.read_csv(r\"C:\\Users\\TzachiHNB6\\Downloads\\pbmcs_bat1k_metadata.csv\")\n",
    "adata.obs  = bat_metadata"
   ]
  },
  {
   "cell_type": "code",
   "execution_count": 108,
   "id": "57a9b0ce",
   "metadata": {},
   "outputs": [
    {
     "name": "stderr",
     "output_type": "stream",
     "text": [
      "C:\\Users\\TzachiHNB6\\AppData\\Local\\Programs\\Python\\Python39\\lib\\site-packages\\anndata\\_core\\anndata.py:120: ImplicitModificationWarning: Transforming to str index.\n",
      "  warnings.warn(\"Transforming to str index.\", ImplicitModificationWarning)\n"
     ]
    }
   ],
   "source": [
    "adata_copy = adata.copy()"
   ]
  },
  {
   "cell_type": "code",
   "execution_count": null,
   "id": "9cd50847",
   "metadata": {},
   "outputs": [],
   "source": [
    "# Keep only the relevant cell types\n",
    "adata_copy = adata_copy[adata_copy.obs.inter_species_ann.isin([ 'Neutrophils',\n",
    " 'Monocytes_CD14',\n",
    " 'Monocytes_CD16',\n",
    " 'Monocytes_IFNB1',\n",
    " 'DC_activated',\n",
    " 'pDCs',\n",
    " 'T_CD4',\n",
    " 'T_CD8/NKT',\n",
    " 'NK',\n",
    " 'B',\n",
    " 'B_CD83',\n",
    " ])]\n",
    "\n",
    "# Keep only LPS/Poly(I:C) indected cells\n",
    "adata_copy = adata_copy[adata_copy.obs[\"batch\"].isin([\"LPS\",\"Poly(I:C)\"])]"
   ]
  },
  {
   "cell_type": "code",
   "execution_count": 109,
   "id": "0ab8ed55",
   "metadata": {},
   "outputs": [],
   "source": [
    "# Load DE results between Poly(I:C) and CTRL cells done in different species\n",
    "de_pic_ctrl = pd.read_excel(r\"C:\\Users\\TzachiHNB6\\Downloads\\pIC_up_six_mammals_fiborblasts.xlsx\")"
   ]
  },
  {
   "cell_type": "code",
   "execution_count": 110,
   "id": "0e492c8d",
   "metadata": {},
   "outputs": [],
   "source": [
    "# Only keep human, mouse and R.aegyptiacus) DE results\n",
    "de_pic_ctrl = de_pic_ctrl [[\"Homo sapiens_ortho_gene\",\"Mus musculus_ortho_gene\",\"Rousettus aegyptiacus_ortho_gene\",\"Homo sapiens FC\",\"Homo sapiens Q-value\",\"Mus musculus FC\",\"Mus musculus Q-value\",\"Rousettus aegyptiacus FC\",\"Rousettus aegyptiacus Q-value\"]]"
   ]
  },
  {
   "cell_type": "code",
   "execution_count": 93,
   "id": "2aa9d165",
   "metadata": {},
   "outputs": [
    {
     "data": {
      "text/html": [
       "<div>\n",
       "<style scoped>\n",
       "    .dataframe tbody tr th:only-of-type {\n",
       "        vertical-align: middle;\n",
       "    }\n",
       "\n",
       "    .dataframe tbody tr th {\n",
       "        vertical-align: top;\n",
       "    }\n",
       "\n",
       "    .dataframe thead th {\n",
       "        text-align: right;\n",
       "    }\n",
       "</style>\n",
       "<table border=\"1\" class=\"dataframe\">\n",
       "  <thead>\n",
       "    <tr style=\"text-align: right;\">\n",
       "      <th></th>\n",
       "      <th>Homo sapiens_ortho_gene</th>\n",
       "      <th>Mus musculus_ortho_gene</th>\n",
       "      <th>Rousettus aegyptiacus_ortho_gene</th>\n",
       "      <th>Homo sapiens FC</th>\n",
       "      <th>Homo sapiens Q-value</th>\n",
       "      <th>Mus musculus FC</th>\n",
       "      <th>Mus musculus Q-value</th>\n",
       "      <th>Rousettus aegyptiacus FC</th>\n",
       "      <th>Rousettus aegyptiacus Q-value</th>\n",
       "    </tr>\n",
       "  </thead>\n",
       "  <tbody>\n",
       "    <tr>\n",
       "      <th>0</th>\n",
       "      <td>ENSG00000073150</td>\n",
       "      <td>ENSMUSG00000058441</td>\n",
       "      <td>PANX2</td>\n",
       "      <td>-0.183853</td>\n",
       "      <td>9.805681e-01</td>\n",
       "      <td>-1.361561</td>\n",
       "      <td>1.000000</td>\n",
       "      <td>-1.348909</td>\n",
       "      <td>4.680358e-01</td>\n",
       "    </tr>\n",
       "    <tr>\n",
       "      <th>1</th>\n",
       "      <td>ENSG00000119965</td>\n",
       "      <td>ENSMUSG00000040177</td>\n",
       "      <td>LOC107516000</td>\n",
       "      <td>-0.010579</td>\n",
       "      <td>1.000000e+00</td>\n",
       "      <td>0.029759</td>\n",
       "      <td>1.000000</td>\n",
       "      <td>0.019585</td>\n",
       "      <td>1.000000e+00</td>\n",
       "    </tr>\n",
       "    <tr>\n",
       "      <th>2</th>\n",
       "      <td>ENSG00000127578</td>\n",
       "      <td>ENSMUSG00000071192</td>\n",
       "      <td>WFIKKN1</td>\n",
       "      <td>1.109798</td>\n",
       "      <td>7.740795e-01</td>\n",
       "      <td>0.827554</td>\n",
       "      <td>0.788337</td>\n",
       "      <td>0.620247</td>\n",
       "      <td>6.491871e-01</td>\n",
       "    </tr>\n",
       "    <tr>\n",
       "      <th>3</th>\n",
       "      <td>ENSG00000109270</td>\n",
       "      <td>ENSMUSG00000091512</td>\n",
       "      <td>LAMTOR3</td>\n",
       "      <td>-0.078400</td>\n",
       "      <td>1.000000e+00</td>\n",
       "      <td>-0.009332</td>\n",
       "      <td>1.000000</td>\n",
       "      <td>0.182063</td>\n",
       "      <td>3.781288e-01</td>\n",
       "    </tr>\n",
       "    <tr>\n",
       "      <th>4</th>\n",
       "      <td>ENSG00000149262</td>\n",
       "      <td>ENSMUSG00000025133</td>\n",
       "      <td>INTS4</td>\n",
       "      <td>-0.072274</td>\n",
       "      <td>1.000000e+00</td>\n",
       "      <td>0.012647</td>\n",
       "      <td>1.000000</td>\n",
       "      <td>-0.164538</td>\n",
       "      <td>3.405256e-01</td>\n",
       "    </tr>\n",
       "    <tr>\n",
       "      <th>...</th>\n",
       "      <td>...</td>\n",
       "      <td>...</td>\n",
       "      <td>...</td>\n",
       "      <td>...</td>\n",
       "      <td>...</td>\n",
       "      <td>...</td>\n",
       "      <td>...</td>\n",
       "      <td>...</td>\n",
       "      <td>...</td>\n",
       "    </tr>\n",
       "    <tr>\n",
       "      <th>10243</th>\n",
       "      <td>ENSG00000127666</td>\n",
       "      <td>ENSMUSG00000047123</td>\n",
       "      <td>TICAM1</td>\n",
       "      <td>1.189755</td>\n",
       "      <td>2.300000e-12</td>\n",
       "      <td>-0.179167</td>\n",
       "      <td>1.000000</td>\n",
       "      <td>0.678929</td>\n",
       "      <td>6.190000e-09</td>\n",
       "    </tr>\n",
       "    <tr>\n",
       "      <th>10244</th>\n",
       "      <td>ENSG00000172531</td>\n",
       "      <td>ENSMUSG00000040385</td>\n",
       "      <td>PPP1CA</td>\n",
       "      <td>-0.289793</td>\n",
       "      <td>1.294020e-01</td>\n",
       "      <td>-0.116478</td>\n",
       "      <td>1.000000</td>\n",
       "      <td>-0.069645</td>\n",
       "      <td>6.628047e-01</td>\n",
       "    </tr>\n",
       "    <tr>\n",
       "      <th>10245</th>\n",
       "      <td>ENSG00000213639</td>\n",
       "      <td>ENSMUSG00000014956</td>\n",
       "      <td>PPP1CB</td>\n",
       "      <td>-0.797830</td>\n",
       "      <td>2.901960e-04</td>\n",
       "      <td>-0.733525</td>\n",
       "      <td>0.040324</td>\n",
       "      <td>-0.399894</td>\n",
       "      <td>1.597624e-02</td>\n",
       "    </tr>\n",
       "    <tr>\n",
       "      <th>10246</th>\n",
       "      <td>ENSG00000186298</td>\n",
       "      <td>ENSMUSG00000004455</td>\n",
       "      <td>PPP1CC</td>\n",
       "      <td>-0.481502</td>\n",
       "      <td>7.088571e-03</td>\n",
       "      <td>-0.255570</td>\n",
       "      <td>0.569707</td>\n",
       "      <td>-0.239552</td>\n",
       "      <td>5.013180e-02</td>\n",
       "    </tr>\n",
       "    <tr>\n",
       "      <th>10247</th>\n",
       "      <td>ENSG00000135341</td>\n",
       "      <td>ENSMUSG00000028284</td>\n",
       "      <td>MAP3K7</td>\n",
       "      <td>-0.250641</td>\n",
       "      <td>3.031371e-01</td>\n",
       "      <td>-0.233030</td>\n",
       "      <td>0.713501</td>\n",
       "      <td>-0.257215</td>\n",
       "      <td>2.117885e-01</td>\n",
       "    </tr>\n",
       "  </tbody>\n",
       "</table>\n",
       "<p>10248 rows × 9 columns</p>\n",
       "</div>"
      ],
      "text/plain": [
       "      Homo sapiens_ortho_gene Mus musculus_ortho_gene  \\\n",
       "0             ENSG00000073150      ENSMUSG00000058441   \n",
       "1             ENSG00000119965      ENSMUSG00000040177   \n",
       "2             ENSG00000127578      ENSMUSG00000071192   \n",
       "3             ENSG00000109270      ENSMUSG00000091512   \n",
       "4             ENSG00000149262      ENSMUSG00000025133   \n",
       "...                       ...                     ...   \n",
       "10243         ENSG00000127666      ENSMUSG00000047123   \n",
       "10244         ENSG00000172531      ENSMUSG00000040385   \n",
       "10245         ENSG00000213639      ENSMUSG00000014956   \n",
       "10246         ENSG00000186298      ENSMUSG00000004455   \n",
       "10247         ENSG00000135341      ENSMUSG00000028284   \n",
       "\n",
       "      Rousettus aegyptiacus_ortho_gene  Homo sapiens FC  Homo sapiens Q-value  \\\n",
       "0                                PANX2        -0.183853          9.805681e-01   \n",
       "1                         LOC107516000        -0.010579          1.000000e+00   \n",
       "2                              WFIKKN1         1.109798          7.740795e-01   \n",
       "3                              LAMTOR3        -0.078400          1.000000e+00   \n",
       "4                                INTS4        -0.072274          1.000000e+00   \n",
       "...                                ...              ...                   ...   \n",
       "10243                           TICAM1         1.189755          2.300000e-12   \n",
       "10244                           PPP1CA        -0.289793          1.294020e-01   \n",
       "10245                           PPP1CB        -0.797830          2.901960e-04   \n",
       "10246                           PPP1CC        -0.481502          7.088571e-03   \n",
       "10247                           MAP3K7        -0.250641          3.031371e-01   \n",
       "\n",
       "       Mus musculus FC  Mus musculus Q-value  Rousettus aegyptiacus FC  \\\n",
       "0            -1.361561              1.000000                 -1.348909   \n",
       "1             0.029759              1.000000                  0.019585   \n",
       "2             0.827554              0.788337                  0.620247   \n",
       "3            -0.009332              1.000000                  0.182063   \n",
       "4             0.012647              1.000000                 -0.164538   \n",
       "...                ...                   ...                       ...   \n",
       "10243        -0.179167              1.000000                  0.678929   \n",
       "10244        -0.116478              1.000000                 -0.069645   \n",
       "10245        -0.733525              0.040324                 -0.399894   \n",
       "10246        -0.255570              0.569707                 -0.239552   \n",
       "10247        -0.233030              0.713501                 -0.257215   \n",
       "\n",
       "       Rousettus aegyptiacus Q-value  \n",
       "0                       4.680358e-01  \n",
       "1                       1.000000e+00  \n",
       "2                       6.491871e-01  \n",
       "3                       3.781288e-01  \n",
       "4                       3.405256e-01  \n",
       "...                              ...  \n",
       "10243                   6.190000e-09  \n",
       "10244                   6.628047e-01  \n",
       "10245                   1.597624e-02  \n",
       "10246                   5.013180e-02  \n",
       "10247                   2.117885e-01  \n",
       "\n",
       "[10248 rows x 9 columns]"
      ]
     },
     "execution_count": 93,
     "metadata": {},
     "output_type": "execute_result"
    }
   ],
   "source": [
    "de_pic_ctrl"
   ]
  },
  {
   "cell_type": "code",
   "execution_count": 94,
   "id": "dc31b996",
   "metadata": {},
   "outputs": [],
   "source": [
    "# Keep only genes that are upregulated (significantly) in Poly(I:C) compared with CTRL\n",
    "pic_genes = []\n",
    "# Pair up FC and Q-values of each relevant species\n",
    "fc_qval_pairs = {\"Homo sapiens FC\":\"Homo sapiens Q-value\", \"Rousettus aegyptiacus FC\":\"Rousettus aegyptiacus Q-value\", \"Mus musculus FC\": \"Mus musculus Q-value\" }\n",
    "for index, row in de_pic_ctrl.iterrows():\n",
    "    passed = True\n",
    "    for fc, qval in fc_qval_pairs.items():       \n",
    "        if (row[fc] <0) | (row[qval]  > 0.05):\n",
    "            passed = False\n",
    "            break\n",
    "    if passed:\n",
    "        bat_gene = row.loc[\"Rousettus aegyptiacus_ortho_gene\"].upper()\n",
    "        pic_genes.append(bat_gene)"
   ]
  },
  {
   "cell_type": "code",
   "execution_count": 95,
   "id": "8f67d31e",
   "metadata": {},
   "outputs": [
    {
     "data": {
      "text/plain": [
       "175"
      ]
     },
     "execution_count": 95,
     "metadata": {},
     "output_type": "execute_result"
    }
   ],
   "source": [
    "len(pic_genes)"
   ]
  },
  {
   "cell_type": "code",
   "execution_count": 98,
   "id": "380509f8",
   "metadata": {},
   "outputs": [
    {
     "name": "stdout",
     "output_type": "stream",
     "text": [
      "['IRF1', 'GSAP', 'MB21D1', 'FAM46A', 'LOC107500491', 'HERC6', 'LOC107519342', 'LOC107515132']\n"
     ]
    }
   ],
   "source": [
    "# Find genes names in list mismatching names in R.aegyptiacus genes\n",
    "adata_copy.var_names = [i.upper() for i in adata_copy.var_names]\n",
    "print([i for i in pic_genes if i not in adata_copy.var_names])"
   ]
  },
  {
   "cell_type": "code",
   "execution_count": 99,
   "id": "df4e2c9f",
   "metadata": {},
   "outputs": [],
   "source": [
    "# Correct mismatching gene names in gene list\n",
    "replace = {\"HERC6\":\"HERC6_LOC107518925\", \"LOC107519342\":\"ZC3HAV1\", \"FAM46A\":\"TENT5A\", \"GSAP\":\"GSAP_LOC107511514\",\"MB21D1\" :\"CGAS\", \n",
    "           'LOC107500491':\"SPACA6\", \"LOC107515132\":\"SHFL\"}\n",
    "pic_genes = [replace[x]  if x in replace else x for x in pic_genes]\n",
    "pic_genes.remove(\"IRF1\")"
   ]
  },
  {
   "cell_type": "code",
   "execution_count": 101,
   "id": "437294a3",
   "metadata": {},
   "outputs": [
    {
     "name": "stdout",
     "output_type": "stream",
     "text": [
      "[]\n"
     ]
    }
   ],
   "source": [
    "# Make sure no gene name is mismatched\n",
    "print([i for i in pic_genes if i not in adata_copy.var_names])"
   ]
  },
  {
   "cell_type": "code",
   "execution_count": 102,
   "id": "755262db",
   "metadata": {},
   "outputs": [],
   "source": [
    "# Score calculating function (using sc.tl.score_genes)\n",
    "def score_genes(adata,genes,score_title):\n",
    "    adata_copy = adata.copy()\n",
    "    sc.pp.normalize_per_cell(adata_copy, counts_per_cell_after=1e4)\n",
    "    sc.pp.log1p(adata_copy)\n",
    "    sc.pp.scale(adata_copy)\n",
    "    sc.tl.score_genes(adata_copy,gene_list=genes, score_name= score_title+'_score')\n",
    "    adata_cc_genes = adata_copy[:, genes].copy()\n",
    "    adata.obs[score_title+' score'] = adata_copy.obs[score_title+'_score'].copy()"
   ]
  },
  {
   "cell_type": "code",
   "execution_count": 103,
   "id": "a0553095",
   "metadata": {},
   "outputs": [
    {
     "name": "stdout",
     "output_type": "stream",
     "text": [
      "normalizing by total count per cell\n",
      "    finished (0:00:00): normalized adata.X and added    'n_counts', counts per cell before normalization (adata.obs)\n",
      "... as `zero_center=True`, sparse input is densified and may lead to large memory consumption\n",
      "computing score 'PIC_score'\n",
      "    finished: added\n",
      "    'PIC_score', score of gene set (adata.obs).\n",
      "    893 total control genes are used. (0:00:03)\n"
     ]
    }
   ],
   "source": [
    "# Run scoring\n",
    "score_genes(adata_copy,pic_genes,'PIC')"
   ]
  },
  {
   "cell_type": "code",
   "execution_count": 104,
   "id": "d3b28033",
   "metadata": {},
   "outputs": [
    {
     "name": "stderr",
     "output_type": "stream",
     "text": [
      "C:\\Users\\TzachiHNB6\\AppData\\Local\\Programs\\Python\\Python39\\lib\\site-packages\\anndata\\_core\\anndata.py:1220: FutureWarning: The `inplace` parameter in pandas.Categorical.reorder_categories is deprecated and will be removed in a future version. Removing unused categories will always return a new Categorical object.\n",
      "  c.reorder_categories(natsorted(c.categories), inplace=True)\n",
      "... storing 'Sample' as categorical\n",
      "C:\\Users\\TzachiHNB6\\AppData\\Local\\Programs\\Python\\Python39\\lib\\site-packages\\anndata\\_core\\anndata.py:1220: FutureWarning: The `inplace` parameter in pandas.Categorical.reorder_categories is deprecated and will be removed in a future version. Removing unused categories will always return a new Categorical object.\n",
      "  c.reorder_categories(natsorted(c.categories), inplace=True)\n",
      "... storing 'batch' as categorical\n",
      "C:\\Users\\TzachiHNB6\\AppData\\Local\\Programs\\Python\\Python39\\lib\\site-packages\\anndata\\_core\\anndata.py:1220: FutureWarning: The `inplace` parameter in pandas.Categorical.reorder_categories is deprecated and will be removed in a future version. Removing unused categories will always return a new Categorical object.\n",
      "  c.reorder_categories(natsorted(c.categories), inplace=True)\n",
      "... storing 'phase' as categorical\n",
      "C:\\Users\\TzachiHNB6\\AppData\\Local\\Programs\\Python\\Python39\\lib\\site-packages\\anndata\\_core\\anndata.py:1220: FutureWarning: The `inplace` parameter in pandas.Categorical.reorder_categories is deprecated and will be removed in a future version. Removing unused categories will always return a new Categorical object.\n",
      "  c.reorder_categories(natsorted(c.categories), inplace=True)\n",
      "... storing 'cell_type' as categorical\n",
      "C:\\Users\\TzachiHNB6\\AppData\\Local\\Programs\\Python\\Python39\\lib\\site-packages\\anndata\\_core\\anndata.py:1220: FutureWarning: The `inplace` parameter in pandas.Categorical.reorder_categories is deprecated and will be removed in a future version. Removing unused categories will always return a new Categorical object.\n",
      "  c.reorder_categories(natsorted(c.categories), inplace=True)\n",
      "... storing 'category' as categorical\n",
      "C:\\Users\\TzachiHNB6\\AppData\\Local\\Programs\\Python\\Python39\\lib\\site-packages\\anndata\\_core\\anndata.py:1220: FutureWarning: The `inplace` parameter in pandas.Categorical.reorder_categories is deprecated and will be removed in a future version. Removing unused categories will always return a new Categorical object.\n",
      "  c.reorder_categories(natsorted(c.categories), inplace=True)\n",
      "... storing 'inter_species_ann' as categorical\n",
      "C:\\Users\\TzachiHNB6\\AppData\\Local\\Programs\\Python\\Python39\\lib\\site-packages\\anndata\\_core\\anndata.py:1220: FutureWarning: The `inplace` parameter in pandas.Categorical.reorder_categories is deprecated and will be removed in a future version. Removing unused categories will always return a new Categorical object.\n",
      "  c.reorder_categories(natsorted(c.categories), inplace=True)\n",
      "... storing 'inter_species_ann_B' as categorical\n"
     ]
    },
    {
     "data": {
      "image/png": "[encoded data removed]",
      "text/plain": [
       "<Figure size 149.6x388 with 3 Axes>"
      ]
     },
     "metadata": {
      "image/png": {
       "height": 375,
       "width": 256
      },
      "needs_background": "light"
     },
     "output_type": "display_data"
    }
   ],
   "source": [
    "# Plot scores and save to pdf (craetes a \"figures\" folder in working directory)\n",
    "sc.pl.matrixplot(adata_copy ,'PIC score',groupby ='inter_species_ann',categories_order = ['Neutrophils','Monocytes_CD14','Monocytes_CD16','Monocytes_IFNB1','DC_activated','pDCs','T_CD4','T_CD8/NKT','NK','B','B_CD83'],dendrogram=False,standard_scale='var',cmap='coolwarm',colorbar_title='Scaled \\nscore',save='bat_pic_score_plot.pdf')"
   ]
  }
 ],
 "metadata": {
  "kernelspec": {
   "display_name": "Python 3 (ipykernel)",
   "language": "python",
   "name": "python3"
  },
  "language_info": {
   "codemirror_mode": {
    "name": "ipython",
    "version": 3
   },
   "file_extension": ".py",
   "mimetype": "text/x-python",
   "name": "python",
   "nbconvert_exporter": "python",
   "pygments_lexer": "ipython3",
   "version": "3.9.7"
  },
  "toc": {
   "base_numbering": 1,
   "nav_menu": {},
   "number_sections": true,
   "sideBar": true,
   "skip_h1_title": false,
   "title_cell": "Table of Contents",
   "title_sidebar": "Contents",
   "toc_cell": false,
   "toc_position": {},
   "toc_section_display": true,
   "toc_window_display": true
  }
 },
 "nbformat": 4,
 "nbformat_minor": 5
}
