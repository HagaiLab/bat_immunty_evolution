{
 "cells": [
  {
   "cell_type": "code",
   "execution_count": null,
   "id": "premier-value",
   "metadata": {},
   "outputs": [],
   "source": [
    "%%time\n",
    "import numpy as np\n",
    "import scanpy as sc\n",
    "import os\n",
    "import pandas as pd\n",
    "import bbknn\n",
    "import matplotlib.pyplot as plt\n",
    "import seaborn as sns\n",
    "sc.settings.verbosity = 4                \n",
    "sc.settings.set_figure_params(80)                 \n",
    "sc.settings.file_format_figures = 'pdf'  \n",
    "sc.settings.savefigs = False            \n",
    "use_first_n_samples = 0\n",
    "full_sparse = False\n"
   ]
  },
  {
   "cell_type": "markdown",
   "id": "iraqi-pulse",
   "metadata": {},
   "source": [
    "After creating gProfiler csv files \n",
    "- For the conditions DE of monocytes - Created by top 100 DE genes upregulated for each condition and sorted by Q values \n",
    "- For the 3 states - Created with the three sets of state-DE genes from unstimulated monocytes and the two dsRNA-stimulated monocytes"
   ]
  },
  {
   "cell_type": "code",
   "execution_count": null,
   "id": "prescription-parent",
   "metadata": {},
   "outputs": [],
   "source": [
    "def go_terms_unique(main_path, source =['GO:BP','GO:CC','KEGG','REAC'],states = ['group1', 'group2', 'group3']):\n",
    "    gp_dfs = {}\n",
    "    gp_terms = {}\n",
    "    all_terms = []\n",
    "    for group in states:\n",
    "        gp_dfs[group] = pd.read_csv(main_path+group+\".csv\",index_col=0)\n",
    "        gp_terms[group] = list(gp_dfs[group].term_id.values)\n",
    "        for i in gp_terms[group]:\n",
    "            all_terms.append(i)\n",
    "    all_terms_unique = [i for i in all_terms if all_terms.count(i) == 1]\n",
    "\n",
    "    gp_dfs_unique={}\n",
    "    unique_terms = {}\n",
    "    for group in gp_terms.keys():\n",
    "        unique_terms[group] =[term for term in gp_terms[group] if term in all_terms_unique] \n",
    "        gp_dfs_unique[group] = gp_dfs[group][gp_dfs[group].term_id.isin(unique_terms[group])]\n",
    "        gp_dfs_unique[group].sort_values(by='adjusted_p_value',inplace=True)\n",
    "        gp_dfs_unique[group]['-log10(Qvalue)'] = -np.log10(gp_dfs_unique[group]['adjusted_p_value'])\n",
    "        gp_dfs_unique[group] = gp_dfs_unique[group][gp_dfs_unique[group].index.isin(source)]\n",
    "    for group in gp_dfs_unique.keys():\n",
    "        sns.set(rc={'figure.figsize':(11.7,8.27)})\n",
    "        sns.set(rc={'axes.facecolor':'white', 'figure.facecolor':'white'})\n",
    "        fig = sns.barplot(x=\"-log10(Qvalue)\", y='term_name',data=gp_dfs_unique[group].iloc[:20], color='#6D01FA', palette='RdBu').set_title(group+'_'+','.join(source))\n",
    "        plt.savefig(group +'.pdf',bbox_inches='tight',transparent=True, format=\"pdf\")\n",
    "        plt.show()\n",
    "    return gp_dfs_unique"
   ]
  },
  {
   "cell_type": "code",
   "execution_count": null,
   "id": "broken-brunei",
   "metadata": {},
   "outputs": [],
   "source": [
    "#Some genes annotated from NCBI https://www.ncbi.nlm.nih.gov/genome/gdv/browser/genome/?id=GCF_001466805.2\n",
    "locs = {'LOC107499671':'MT2A','LOC107502043':'DDX3X','LOC107511263':'IFI27L2A','LOC107517540':'H2-Q10','LOC107499653':'KRTAP5-9','LOC107518587':'IFN4A','LOC107510717':'PTPN11','LOC107504525':'H4C1','LOC107504040':'H3C1','LOC107503981':'H3C1'}"
   ]
  }
 ],
 "metadata": {
  "kernelspec": {
   "display_name": "Python 3",
   "language": "python",
   "name": "python3"
  },
  "language_info": {
   "codemirror_mode": {
    "name": "ipython",
    "version": 3
   },
   "file_extension": ".py",
   "mimetype": "text/x-python",
   "name": "python",
   "nbconvert_exporter": "python",
   "pygments_lexer": "ipython3",
   "version": "3.9.2"
  },
  "toc": {
   "base_numbering": 1,
   "nav_menu": {},
   "number_sections": true,
   "sideBar": true,
   "skip_h1_title": false,
   "title_cell": "Table of Contents",
   "title_sidebar": "Contents",
   "toc_cell": false,
   "toc_position": {},
   "toc_section_display": true,
   "toc_window_display": false
  }
 },
 "nbformat": 4,
 "nbformat_minor": 5
}
