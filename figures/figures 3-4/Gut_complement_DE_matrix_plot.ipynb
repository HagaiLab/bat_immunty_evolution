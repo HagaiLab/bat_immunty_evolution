{
 "cells": [
  {
   "cell_type": "markdown",
   "id": "seasonal-mistake",
   "metadata": {},
   "source": [
    "# Complement DE matrix plots"
   ]
  },
  {
   "cell_type": "code",
   "execution_count": 32,
   "id": "aware-calgary",
   "metadata": {},
   "outputs": [],
   "source": [
    "import pandas as pd\n",
    "import seaborn as sns\n",
    "import matplotlib.pyplot as plt\n",
    "import numpy as np\n",
    "import os\n",
    "\n",
    "GENES =  ['MASP1','C2','CFB','CFD','CFI','C3','C4A','C5','C6','C7','C8G','C9']\n",
    "# Read the specific columns from each sheet\n",
    "\n",
    "sheet_names = ['Stem_cell', 'TA','Enterocyte','Goblet','Tuft','EEC', 'Paneth']\n",
    "\n",
    "merged_data_m,merged_data_h = pd.DataFrame(),pd.DataFrame()\n",
    "\n",
    "#\n",
    "path_m = r\"bat_mouse_gut_DE.xlsx\" # Listed as  Extended Table 4\n",
    "path_h = r\"bat_human_gut_DE.xlsx\" # Listed as  Extended Table 3\n",
    "\n",
    "# Iterate over each sheet\n",
    "\n",
    "for sheet_name in sheet_names:\n",
    "    # Read the sheet\n",
    "    sheet_data_m = pd.read_excel(path_m, sheet_name=sheet_name,index_col='Unnamed: 0.1')\n",
    "    for complement in GENES:\n",
    "        if complement not in sheet_data_m.index:\n",
    "            sheet_data_m.loc[complement] = 0.015\n",
    "    sheet_data_m = sheet_data_m.loc[GENES]\n",
    "    \n",
    "    sheet_data_h = pd.read_excel(path_h, sheet_name=sheet_name,index_col='Unnamed: 0.1')\n",
    "    for complement in GENES:\n",
    "        if complement not in sheet_data_h.index:\n",
    "    # If the gene is not expressed in over 10% of the cells/ log2FC < 0.25 \n",
    "            sheet_data_h.loc[complement] = 0.015 # specific value in order to distinguish and color in grey in later processing\n",
    "    sheet_data_h = sheet_data_h.loc[GENES]\n",
    "    \n",
    "    # Select the specific columns\n",
    "    sheet_data_m = sheet_data_m[['p_val_adj']]\n",
    "    sheet_data_h = sheet_data_h[['p_val_adj']]\n",
    "    sheet_data_m.rename(columns={'p_val_adj':sheet_name},inplace=True)\n",
    "    sheet_data_h.rename(columns={'p_val_adj':sheet_name},inplace=True)\n",
    "\n",
    "    # Merge with the existing data based on the index\n",
    "    \n",
    "    if merged_data_m.empty:\n",
    "            merged_data_m = sheet_data_m\n",
    "    else:\n",
    "        merged_data_m = merged_data_m.loc[GENES]\n",
    "        merged_data_m = pd.concat([merged_data_m, sheet_data_m], axis=\"columns\",)\n",
    "        \n",
    "    if merged_data_h.empty:\n",
    "            merged_data_h = sheet_data_h\n",
    "    else:\n",
    "        merged_data_h = merged_data_h.loc[GENES]\n",
    "        merged_data_h = pd.concat([merged_data_h, sheet_data_h], axis=\"columns\",)\n",
    "        \n",
    "DE_data = {'Human':merged_data_h,'Mouse':merged_data_m}\n",
    "        \n",
    "# Replace zeroes with the second lowest value\n",
    "for species in DE_data:\n",
    "    values = DE_data[species].values.flatten()\n",
    "    non_zero_values = values[values != 0]\n",
    "    second_lowest_value = np.partition(non_zero_values, 1)[0]\n",
    "    DE_data[species] = DE_data[species].replace(0, second_lowest_value)\n",
    "    DE_data[species] = -np.log10(DE_data[species])\n",
    "    DE_data[species].rename(columns={'Stem_cell':'Stem cell'},inplace=True)"
   ]
  },
  {
   "cell_type": "code",
   "execution_count": 33,
   "id": "cultural-romania",
   "metadata": {},
   "outputs": [
    {
     "data": {
      "image/png": "[encoded data removed]",
      "text/plain": [
       "<Figure size 216x288 with 2 Axes>"
      ]
     },
     "metadata": {
      "needs_background": "light"
     },
     "output_type": "display_data"
    },
    {
     "data": {
      "image/png": "[encoded data removed]",
      "text/plain": [
       "<Figure size 216x288 with 2 Axes>"
      ]
     },
     "metadata": {
      "needs_background": "light"
     },
     "output_type": "display_data"
    }
   ],
   "source": [
    "\n",
    "\n",
    "plt.rcParams['pdf.fonttype'] = 42\n",
    "plt.rcParams['ps.fonttype'] = 42\n",
    "# Create the heatmap\n",
    "plt.figure(figsize=(3, 4))\n",
    "\n",
    "\n",
    "heatmap = sns.heatmap(DE_data['Mouse'], annot=False, cmap='coolwarm',vmin=0,vmax=3, linewidths=1, linecolor='white')\n",
    "\n",
    "# Rotate column titles\n",
    "ax = plt.gca()\n",
    "ax.xaxis.set_ticks_position('top')\n",
    "ax.xaxis.set_label_position('top')\n",
    "ax.set_ylabel('')\n",
    "\n",
    "plt.xticks(rotation=45)\n",
    "plt.yticks(rotation=0)\n",
    "\n",
    "# Add column titles as tick labels\n",
    "plt.title('Mouse - Single cell adjusted P-values')\n",
    "\n",
    "plt.savefig(\"Single_cell_gut_qval_complement_mouse.pdf\",bbox_inches='tight', transparent=True, format=\"pdf\")\n",
    "\n",
    "# Display the heatmap\n",
    "plt.show()\n",
    "\n",
    "\n",
    "plt.figure(figsize=(3, 4))\n",
    "\n",
    "heatmap = sns.heatmap(DE_data['Human'], annot=False, cmap='coolwarm',vmin=0,vmax=3, linewidths=1, linecolor='white')\n",
    "\n",
    "# Rotate column titles\n",
    "ax = plt.gca()\n",
    "ax.xaxis.set_ticks_position('top')\n",
    "ax.xaxis.set_label_position('top')\n",
    "ax.set_ylabel('')\n",
    "\n",
    "plt.xticks(rotation=45)\n",
    "plt.yticks(rotation=0)\n",
    "\n",
    "# Add column titles as tick labels\n",
    "plt.title('Human - Single cell adjusted P-values')\n",
    "\n",
    "plt.savefig(\"Single_cell_gut_qval_complement_human.pdf\",bbox_inches='tight', transparent=True, format=\"pdf\")\n",
    "\n",
    "# Display the heatmap\n",
    "plt.show()"
   ]
  },
  {
   "cell_type": "code",
   "execution_count": 15,
   "id": "pointed-respondent",
   "metadata": {},
   "outputs": [],
   "source": [
    "path_m = r\"bat_mouse_gut_DE.xlsx\"\n",
    "path_h = r\"bat_human_gut_DE.xlsx\"\n",
    "sheet_data_m = pd.read_excel(path_m, sheet_name=sheet_names,index_col='Unnamed: 0.1')\n",
    "sheet_data_h = pd.read_excel(path_h, sheet_name=sheet_names,index_col='Unnamed: 0.1')\n",
    "GENES =  ['MASP1','C2','CFB','CFD','CFI','C3','C4A','C5','C6','C7','C8G','C9']"
   ]
  },
  {
   "cell_type": "code",
   "execution_count": 23,
   "id": "generic-tanzania",
   "metadata": {},
   "outputs": [
    {
     "name": "stdout",
     "output_type": "stream",
     "text": [
      "mouse\n",
      "\n",
      "Tuft C2 4.84820376022316e-21\n",
      "\n",
      "\n",
      "\n",
      "human\n",
      "\n",
      "Enterocyte C8G 1.67883619513046e-39\n",
      "EEC C8G 1.0\n"
     ]
    }
   ],
   "source": [
    "print('mouse\\n')\n",
    "\n",
    "for name in sheet_names:\n",
    "    for index in sheet_data_m[name].index:\n",
    "        if index in GENES:\n",
    "            if sheet_data_m[name].at[index,'avg_log2FC']<-0.25:\n",
    "                print(name, index,sheet_data_m[name].at[index,'p_val_adj'])\n",
    "        else:\n",
    "            pass\n",
    "\n",
    "print('\\n\\n\\nhuman\\n')\n",
    "\n",
    "for name in sheet_names:\n",
    "    for index in sheet_data_h[name].index:\n",
    "        if index in GENES:\n",
    "            if sheet_data_h[name].at[index,'avg_log2FC']<-0.25:\n",
    "                print(name, index,sheet_data_h[name].at[index,'p_val_adj'])\n",
    "        else:\n",
    "            pass"
   ]
  },
  {
   "cell_type": "markdown",
   "id": "deadly-selling",
   "metadata": {},
   "source": [
    ">  Specific considerations - genes expressed more highly in non bat species in the DE \n",
    "\n",
    "- Tuft C2 4.84820376022316e-21 - Significantly more expressed in tuft cells in mouse \n",
    "- Enterocyte C8G 1.67883619513046e-39 - Significantly more expressed in tuft cells in human "
   ]
  }
 ],
 "metadata": {
  "kernelspec": {
   "display_name": "Python 3",
   "language": "python",
   "name": "python3"
  },
  "language_info": {
   "codemirror_mode": {
    "name": "ipython",
    "version": 3
   },
   "file_extension": ".py",
   "mimetype": "text/x-python",
   "name": "python",
   "nbconvert_exporter": "python",
   "pygments_lexer": "ipython3",
   "version": "3.9.2"
  },
  "toc": {
   "base_numbering": 1,
   "nav_menu": {},
   "number_sections": true,
   "sideBar": true,
   "skip_h1_title": false,
   "title_cell": "Table of Contents",
   "title_sidebar": "Contents",
   "toc_cell": false,
   "toc_position": {},
   "toc_section_display": true,
   "toc_window_display": true
  }
 },
 "nbformat": 4,
 "nbformat_minor": 5
}
